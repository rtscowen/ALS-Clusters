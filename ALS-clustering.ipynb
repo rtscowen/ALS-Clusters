{
 "cells": [
  {
   "cell_type": "code",
   "execution_count": 210,
   "metadata": {},
   "outputs": [],
   "source": [
    "import numpy as np\n",
    "import scipy\n",
    "import GPy\n",
    "import pandas as pd\n",
    "import matplotlib.pyplot as plt\n",
    "\n",
    "from datetime import datetime\n",
    "%matplotlib inline"
   ]
  },
  {
   "cell_type": "code",
   "execution_count": 211,
   "metadata": {},
   "outputs": [
    {
     "data": {
      "text/html": [
       "<div>\n",
       "<style scoped>\n",
       "    .dataframe tbody tr th:only-of-type {\n",
       "        vertical-align: middle;\n",
       "    }\n",
       "\n",
       "    .dataframe tbody tr th {\n",
       "        vertical-align: top;\n",
       "    }\n",
       "\n",
       "    .dataframe thead th {\n",
       "        text-align: right;\n",
       "    }\n",
       "</style>\n",
       "<table border=\"1\" class=\"dataframe\">\n",
       "  <thead>\n",
       "    <tr style=\"text-align: right;\">\n",
       "      <th></th>\n",
       "      <th>date</th>\n",
       "      <th>patient0</th>\n",
       "      <th>patient1</th>\n",
       "      <th>patient2</th>\n",
       "      <th>patient3</th>\n",
       "      <th>patient4</th>\n",
       "      <th>patient5</th>\n",
       "      <th>patient6</th>\n",
       "      <th>patient7</th>\n",
       "      <th>patient8</th>\n",
       "      <th>patient9</th>\n",
       "    </tr>\n",
       "  </thead>\n",
       "  <tbody>\n",
       "    <tr>\n",
       "      <th>0</th>\n",
       "      <td>2020-01-01</td>\n",
       "      <td>4.000000</td>\n",
       "      <td>4.000000</td>\n",
       "      <td>4.000000</td>\n",
       "      <td>4.000000</td>\n",
       "      <td>4.000000</td>\n",
       "      <td>20.000000</td>\n",
       "      <td>20.000000</td>\n",
       "      <td>20.000000</td>\n",
       "      <td>20.000000</td>\n",
       "      <td>20.000000</td>\n",
       "    </tr>\n",
       "    <tr>\n",
       "      <th>1</th>\n",
       "      <td>2020-01-27</td>\n",
       "      <td>6.285714</td>\n",
       "      <td>6.285714</td>\n",
       "      <td>6.285714</td>\n",
       "      <td>6.285714</td>\n",
       "      <td>6.285714</td>\n",
       "      <td>17.714286</td>\n",
       "      <td>17.714286</td>\n",
       "      <td>17.714286</td>\n",
       "      <td>17.714286</td>\n",
       "      <td>17.714286</td>\n",
       "    </tr>\n",
       "    <tr>\n",
       "      <th>2</th>\n",
       "      <td>2020-02-22</td>\n",
       "      <td>8.571429</td>\n",
       "      <td>8.571429</td>\n",
       "      <td>8.571429</td>\n",
       "      <td>8.571429</td>\n",
       "      <td>8.571429</td>\n",
       "      <td>15.428571</td>\n",
       "      <td>15.428571</td>\n",
       "      <td>15.428571</td>\n",
       "      <td>15.428571</td>\n",
       "      <td>15.428571</td>\n",
       "    </tr>\n",
       "    <tr>\n",
       "      <th>3</th>\n",
       "      <td>2020-03-19</td>\n",
       "      <td>10.857143</td>\n",
       "      <td>10.857143</td>\n",
       "      <td>10.857143</td>\n",
       "      <td>10.857143</td>\n",
       "      <td>10.857143</td>\n",
       "      <td>13.142857</td>\n",
       "      <td>13.142857</td>\n",
       "      <td>13.142857</td>\n",
       "      <td>13.142857</td>\n",
       "      <td>13.142857</td>\n",
       "    </tr>\n",
       "    <tr>\n",
       "      <th>4</th>\n",
       "      <td>2020-04-14</td>\n",
       "      <td>13.142857</td>\n",
       "      <td>13.142857</td>\n",
       "      <td>13.142857</td>\n",
       "      <td>13.142857</td>\n",
       "      <td>13.142857</td>\n",
       "      <td>10.857143</td>\n",
       "      <td>10.857143</td>\n",
       "      <td>10.857143</td>\n",
       "      <td>10.857143</td>\n",
       "      <td>10.857143</td>\n",
       "    </tr>\n",
       "    <tr>\n",
       "      <th>5</th>\n",
       "      <td>2020-05-10</td>\n",
       "      <td>15.428571</td>\n",
       "      <td>15.428571</td>\n",
       "      <td>15.428571</td>\n",
       "      <td>15.428571</td>\n",
       "      <td>15.428571</td>\n",
       "      <td>8.571429</td>\n",
       "      <td>8.571429</td>\n",
       "      <td>8.571429</td>\n",
       "      <td>8.571429</td>\n",
       "      <td>8.571429</td>\n",
       "    </tr>\n",
       "    <tr>\n",
       "      <th>6</th>\n",
       "      <td>2020-06-05</td>\n",
       "      <td>17.714286</td>\n",
       "      <td>17.714286</td>\n",
       "      <td>17.714286</td>\n",
       "      <td>17.714286</td>\n",
       "      <td>17.714286</td>\n",
       "      <td>6.285714</td>\n",
       "      <td>6.285714</td>\n",
       "      <td>6.285714</td>\n",
       "      <td>6.285714</td>\n",
       "      <td>6.285714</td>\n",
       "    </tr>\n",
       "    <tr>\n",
       "      <th>7</th>\n",
       "      <td>2020-07-01</td>\n",
       "      <td>20.000000</td>\n",
       "      <td>20.000000</td>\n",
       "      <td>20.000000</td>\n",
       "      <td>20.000000</td>\n",
       "      <td>20.000000</td>\n",
       "      <td>4.000000</td>\n",
       "      <td>4.000000</td>\n",
       "      <td>4.000000</td>\n",
       "      <td>4.000000</td>\n",
       "      <td>4.000000</td>\n",
       "    </tr>\n",
       "  </tbody>\n",
       "</table>\n",
       "</div>"
      ],
      "text/plain": [
       "        date   patient0   patient1   patient2   patient3   patient4  \\\n",
       "0 2020-01-01   4.000000   4.000000   4.000000   4.000000   4.000000   \n",
       "1 2020-01-27   6.285714   6.285714   6.285714   6.285714   6.285714   \n",
       "2 2020-02-22   8.571429   8.571429   8.571429   8.571429   8.571429   \n",
       "3 2020-03-19  10.857143  10.857143  10.857143  10.857143  10.857143   \n",
       "4 2020-04-14  13.142857  13.142857  13.142857  13.142857  13.142857   \n",
       "5 2020-05-10  15.428571  15.428571  15.428571  15.428571  15.428571   \n",
       "6 2020-06-05  17.714286  17.714286  17.714286  17.714286  17.714286   \n",
       "7 2020-07-01  20.000000  20.000000  20.000000  20.000000  20.000000   \n",
       "\n",
       "    patient5   patient6   patient7   patient8   patient9  \n",
       "0  20.000000  20.000000  20.000000  20.000000  20.000000  \n",
       "1  17.714286  17.714286  17.714286  17.714286  17.714286  \n",
       "2  15.428571  15.428571  15.428571  15.428571  15.428571  \n",
       "3  13.142857  13.142857  13.142857  13.142857  13.142857  \n",
       "4  10.857143  10.857143  10.857143  10.857143  10.857143  \n",
       "5   8.571429   8.571429   8.571429   8.571429   8.571429  \n",
       "6   6.285714   6.285714   6.285714   6.285714   6.285714  \n",
       "7   4.000000   4.000000   4.000000   4.000000   4.000000  "
      ]
     },
     "execution_count": 211,
     "metadata": {},
     "output_type": "execute_result"
    }
   ],
   "source": [
    "#10 synthetic patients, random ALS-FRS (4-40), known alignment (8 readings / 6mnths)\n",
    "date_rng = pd.date_range(start='1/1/2020', end='7/1/2020', periods=8)\n",
    "\n",
    "df = pd.DataFrame(date_rng, columns=['date'])\n",
    "\n",
    "#Patients 0-4 have increasing \n",
    "for synthetic_patient in range(5): \n",
    "    patient_id = \"patient\" + str(synthetic_patient)\n",
    "    #df[patient_id] = np.random.randint(low=4,high=20,size=(len(date_rng)))\n",
    "    df[patient_id] = np.linspace(start=4,stop=20,num=8)\n",
    "\n",
    "#Pateints 5-9 have decreasing\n",
    "for synthetic_patient in range(5, 10):\n",
    "    patient_id = \"patient\" + str(synthetic_patient)\n",
    "    #df[patient_id] = np.random.randint(low=20, high=40,size=(len(date_rng)))\n",
    "    df[patient_id] = np.linspace(start=20,stop=4,num=8)\n",
    "\n",
    "df"
   ]
  },
  {
   "cell_type": "code",
   "execution_count": 212,
   "metadata": {},
   "outputs": [
    {
     "data": {
      "image/png": "[encoded data removed]",
      "text/plain": [
       "<Figure size 432x288 with 1 Axes>"
      ]
     },
     "metadata": {
      "needs_background": "light"
     },
     "output_type": "display_data"
    },
    {
     "data": {
      "image/png": "[encoded data removed]",
      "text/plain": [
       "<Figure size 432x288 with 1 Axes>"
      ]
     },
     "metadata": {
      "needs_background": "light"
     },
     "output_type": "display_data"
    },
    {
     "data": {
      "image/png": "[encoded data removed]",
      "text/plain": [
       "<Figure size 432x288 with 1 Axes>"
      ]
     },
     "metadata": {
      "needs_background": "light"
     },
     "output_type": "display_data"
    },
    {
     "data": {
      "image/png": "[encoded data removed]",
      "text/plain": [
       "<Figure size 432x288 with 1 Axes>"
      ]
     },
     "metadata": {
      "needs_background": "light"
     },
     "output_type": "display_data"
    },
    {
     "data": {
      "image/png": "[encoded data removed]",
      "text/plain": [
       "<Figure size 432x288 with 1 Axes>"
      ]
     },
     "metadata": {
      "needs_background": "light"
     },
     "output_type": "display_data"
    },
    {
     "data": {
      "image/png": "[encoded data removed]",
      "text/plain": [
       "<Figure size 432x288 with 1 Axes>"
      ]
     },
     "metadata": {
      "needs_background": "light"
     },
     "output_type": "display_data"
    },
    {
     "data": {
      "image/png": "[encoded data removed]",
      "text/plain": [
       "<Figure size 432x288 with 1 Axes>"
      ]
     },
     "metadata": {
      "needs_background": "light"
     },
     "output_type": "display_data"
    },
    {
     "data": {
      "image/png": "[encoded data removed]",
      "text/plain": [
       "<Figure size 432x288 with 1 Axes>"
      ]
     },
     "metadata": {
      "needs_background": "light"
     },
     "output_type": "display_data"
    },
    {
     "data": {
      "image/png": "[encoded data removed]",
      "text/plain": [
       "<Figure size 432x288 with 1 Axes>"
      ]
     },
     "metadata": {
      "needs_background": "light"
     },
     "output_type": "display_data"
    },
    {
     "data": {
      "image/png": "[encoded data removed]",
      "text/plain": [
       "<Figure size 432x288 with 1 Axes>"
      ]
     },
     "metadata": {
      "needs_background": "light"
     },
     "output_type": "display_data"
    }
   ],
   "source": [
    "#ALS-FRS graph for each patient over time\n",
    "for synthetic_patient in df.columns[1:]:\n",
    "    df.plot(kind=\"scatter\", x=\"date\", y=synthetic_patient)"
   ]
  },
  {
   "cell_type": "code",
   "execution_count": 213,
   "metadata": {},
   "outputs": [
    {
     "data": {
      "text/html": [
       "<style type=\"text/css\">\n",
       ".tg  {font-family:\"Courier New\", Courier, monospace !important;padding:2px 3px;word-break:normal;border-collapse:collapse;border-spacing:0;border-color:#DCDCDC;margin:0px auto;width:100%;}\n",
       ".tg td{font-family:\"Courier New\", Courier, monospace !important;font-weight:bold;color:#444;background-color:#F7FDFA;border-style:solid;border-width:1px;overflow:hidden;word-break:normal;border-color:#DCDCDC;}\n",
       ".tg th{font-family:\"Courier New\", Courier, monospace !important;font-weight:normal;color:#fff;background-color:#26ADE4;border-style:solid;border-width:1px;overflow:hidden;word-break:normal;border-color:#DCDCDC;}\n",
       ".tg .tg-left{font-family:\"Courier New\", Courier, monospace !important;font-weight:normal;text-align:left;}\n",
       ".tg .tg-center{font-family:\"Courier New\", Courier, monospace !important;font-weight:normal;text-align:center;}\n",
       ".tg .tg-right{font-family:\"Courier New\", Courier, monospace !important;font-weight:normal;text-align:right;}\n",
       "</style>\n",
       "<table class=\"tg\"><tr><th><b>  rbf.       </b></th><th><b>value</b></th><th><b>constraints</b></th><th><b>priors</b></th></tr>\n",
       "<tr><td class=tg-left>  variance   </td><td class=tg-right>  1.0</td><td class=tg-center>    +ve    </td><td class=tg-center>      </td></tr>\n",
       "<tr><td class=tg-left>  lengthscale</td><td class=tg-right>  1.0</td><td class=tg-center>    +ve    </td><td class=tg-center>      </td></tr>\n",
       "</table>"
      ],
      "text/plain": [
       "<GPy.kern.src.rbf.RBF at 0x1da7c970>"
      ]
     },
     "execution_count": 213,
     "metadata": {},
     "output_type": "execute_result"
    }
   ],
   "source": [
    "#Gaussian Process Regression on synthetic data, RBF kernel\n",
    "\n",
    "k = GPy.kern.RBF(1)\n",
    "k"
   ]
  },
  {
   "cell_type": "code",
   "execution_count": 214,
   "metadata": {},
   "outputs": [],
   "source": [
    "def datetimeToFloat(dt):\n",
    "    return (dt - np.datetime64('1970-01-01T00:00:00Z')) / np.timedelta64(1, 's')"
   ]
  },
  {
   "cell_type": "code",
   "execution_count": 215,
   "metadata": {},
   "outputs": [
    {
     "name": "stdout",
     "output_type": "stream",
     "text": [
      "[[1.5778368e+09]\n",
      " [1.5800832e+09]\n",
      " [1.5823296e+09]\n",
      " [1.5845760e+09]\n",
      " [1.5868224e+09]\n",
      " [1.5890688e+09]\n",
      " [1.5913152e+09]\n",
      " [1.5935616e+09]]\n"
     ]
    },
    {
     "data": {
      "text/html": [
       "<style type=\"text/css\">\n",
       ".pd{\n",
       "    font-family: \"Courier New\", Courier, monospace !important;\n",
       "    width: 100%;\n",
       "    padding: 3px;\n",
       "}\n",
       "</style>\n",
       "\n",
       "<p class=pd>\n",
       "<b>Model</b>: GP regression<br>\n",
       "<b>Objective</b>: 31.928175024105627<br>\n",
       "<b>Number of Parameters</b>: 3<br>\n",
       "<b>Number of Optimization Parameters</b>: 3<br>\n",
       "<b>Updates</b>: True<br>\n",
       "</p>\n",
       "<style type=\"text/css\">\n",
       ".tg  {font-family:\"Courier New\", Courier, monospace !important;padding:2px 3px;word-break:normal;border-collapse:collapse;border-spacing:0;border-color:#DCDCDC;margin:0px auto;width:100%;}\n",
       ".tg td{font-family:\"Courier New\", Courier, monospace !important;font-weight:bold;color:#444;background-color:#F7FDFA;border-style:solid;border-width:1px;overflow:hidden;word-break:normal;border-color:#DCDCDC;}\n",
       ".tg th{font-family:\"Courier New\", Courier, monospace !important;font-weight:normal;color:#fff;background-color:#26ADE4;border-style:solid;border-width:1px;overflow:hidden;word-break:normal;border-color:#DCDCDC;}\n",
       ".tg .tg-left{font-family:\"Courier New\", Courier, monospace !important;font-weight:normal;text-align:left;}\n",
       ".tg .tg-center{font-family:\"Courier New\", Courier, monospace !important;font-weight:normal;text-align:center;}\n",
       ".tg .tg-right{font-family:\"Courier New\", Courier, monospace !important;font-weight:normal;text-align:right;}\n",
       "</style>\n",
       "<table class=\"tg\"><tr><th><b>  GP_regression.         </b></th><th><b>            value</b></th><th><b>constraints</b></th><th><b>priors</b></th></tr>\n",
       "<tr><td class=tg-left>  rbf.variance           </td><td class=tg-right>85.70776241962676</td><td class=tg-center>    +ve    </td><td class=tg-center>      </td></tr>\n",
       "<tr><td class=tg-left>  rbf.lengthscale        </td><td class=tg-right>              1.0</td><td class=tg-center>    +ve    </td><td class=tg-center>      </td></tr>\n",
       "<tr><td class=tg-left>  Gaussian_noise.variance</td><td class=tg-right>85.70776241962687</td><td class=tg-center>    +ve    </td><td class=tg-center>      </td></tr>\n",
       "</table>"
      ],
      "text/plain": [
       "<GPy.models.gp_regression.GPRegression at 0x1d9ad1c0>"
      ]
     },
     "execution_count": 215,
     "metadata": {},
     "output_type": "execute_result"
    }
   ],
   "source": [
    "#GPR model for patient0\n",
    "X = df[\"date\"].to_numpy().reshape((8,1))\n",
    "Y = df[\"patient0\"].to_numpy().reshape((8,1))\n",
    "\n",
    "X = datetimeToFloat(X)\n",
    "print(X)\n",
    "\n",
    "m = GPy.models.GPRegression(X, Y, k)\n",
    "m.optimize()\n",
    "\n",
    "m\n",
    "#TODO: log likelihood"
   ]
  },
  {
   "cell_type": "code",
   "execution_count": 216,
   "metadata": {},
   "outputs": [
    {
     "data": {
      "text/plain": [
       "{'dataplot': [<matplotlib.collections.PathCollection at 0x1d9ef8f8>],\n",
       " 'gpmean': [[<matplotlib.lines.Line2D at 0x1d93a700>]],\n",
       " 'gpconfidence': [<matplotlib.collections.PolyCollection at 0x1d93a0a0>]}"
      ]
     },
     "execution_count": 216,
     "metadata": {},
     "output_type": "execute_result"
    },
    {
     "data": {
      "image/png": "[encoded data removed]",
      "text/plain": [
       "<Figure size 432x288 with 1 Axes>"
      ]
     },
     "metadata": {
      "needs_background": "light"
     },
     "output_type": "display_data"
    }
   ],
   "source": [
    "m.plot()"
   ]
  },
  {
   "cell_type": "code",
   "execution_count": 217,
   "metadata": {},
   "outputs": [
    {
     "data": {
      "text/plain": [
       "array([[1.5778368e+09],\n",
       "       [1.5800832e+09],\n",
       "       [1.5823296e+09],\n",
       "       [1.5845760e+09],\n",
       "       [1.5868224e+09],\n",
       "       [1.5890688e+09],\n",
       "       [1.5913152e+09],\n",
       "       [1.5935616e+09]])"
      ]
     },
     "execution_count": 217,
     "metadata": {},
     "output_type": "execute_result"
    }
   ],
   "source": [
    "X\n",
    "#Convert to numbers"
   ]
  },
  {
   "cell_type": "code",
   "execution_count": 218,
   "metadata": {},
   "outputs": [
    {
     "data": {
      "text/plain": [
       "array([[ 4.        ],\n",
       "       [ 6.28571429],\n",
       "       [ 8.57142857],\n",
       "       [10.85714286],\n",
       "       [13.14285714],\n",
       "       [15.42857143],\n",
       "       [17.71428571],\n",
       "       [20.        ]])"
      ]
     },
     "execution_count": 218,
     "metadata": {},
     "output_type": "execute_result"
    }
   ],
   "source": [
    "Y"
   ]
  },
  {
   "cell_type": "code",
   "execution_count": null,
   "metadata": {},
   "outputs": [],
   "source": []
  },
  {
   "cell_type": "code",
   "execution_count": null,
   "metadata": {},
   "outputs": [],
   "source": []
  },
  {
   "cell_type": "code",
   "execution_count": null,
   "metadata": {},
   "outputs": [],
   "source": []
  },
  {
   "cell_type": "code",
   "execution_count": null,
   "metadata": {},
   "outputs": [],
   "source": []
  }
 ],
 "metadata": {
  "kernelspec": {
   "display_name": "Python 3",
   "language": "python",
   "name": "python3"
  },
  "language_info": {
   "codemirror_mode": {
    "name": "ipython",
    "version": 3
   },
   "file_extension": ".py",
   "mimetype": "text/x-python",
   "name": "python",
   "nbconvert_exporter": "python",
   "pygments_lexer": "ipython3",
   "version": "3.8.2"
  }
 },
 "nbformat": 4,
 "nbformat_minor": 4
}
